{
 "cells": [
  {
   "cell_type": "markdown",
   "id": "49de75c9",
   "metadata": {},
   "source": [
    "# Adaptive Sampling\n",
    "\n",
    "In this tutorial you will learn:\n",
    "    \n",
    "    ...\n",
    "    \n",
    "    "
   ]
  },
  {
   "cell_type": "code",
   "execution_count": null,
   "id": "ef1836f4",
   "metadata": {},
   "outputs": [],
   "source": [
    "from bluesky import RunEngine\n",
    "from bluesky.plans import count\n",
    "from simulated_hardware import detector, load_sample, unload_sample, light\n",
    "from bluesky_widgets.models.plot_builders import Images\n",
    "from bluesky_widgets.jupyter.figures import JupyterFigure\n",
    "from bluesky_widgets.utils.streaming import stream_documents_into_runs"
   ]
  },
  {
   "cell_type": "code",
   "execution_count": null,
   "id": "dfbd5c6a",
   "metadata": {},
   "outputs": [],
   "source": [
    "model = Images(\"detector_image\")\n",
    "figure = JupyterFigure(model.figure)\n",
    "figure"
   ]
  },
  {
   "cell_type": "code",
   "execution_count": null,
   "id": "df8f2753",
   "metadata": {
    "pycharm": {
     "name": "#%%\n"
    }
   },
   "outputs": [],
   "source": [
    "RE = RunEngine()"
   ]
  },
  {
   "cell_type": "code",
   "execution_count": null,
   "id": "d0e9d1a2",
   "metadata": {},
   "outputs": [],
   "source": [
    "RE(load_sample(1))"
   ]
  },
  {
   "cell_type": "code",
   "execution_count": null,
   "id": "74b88fe3",
   "metadata": {},
   "outputs": [],
   "source": [
    "# Turn on light\n",
    "RE(light(True))"
   ]
  },
  {
   "cell_type": "code",
   "execution_count": null,
   "id": "f2164b0d",
   "metadata": {},
   "outputs": [],
   "source": [
    "RE(count([detector]), stream_documents_into_runs(model.add_run))"
   ]
  },
  {
   "cell_type": "code",
   "execution_count": null,
   "id": "74ba29d2",
   "metadata": {},
   "outputs": [],
   "source": [
    "image = model.figure.axes[0].artists[0]\n",
    "image.style.update(clim=(0, 1000))"
   ]
  },
  {
   "cell_type": "code",
   "execution_count": null,
   "id": "13c1e2e1",
   "metadata": {},
   "outputs": [],
   "source": []
  }
 ],
 "metadata": {
  "kernelspec": {
   "display_name": "Python 3",
   "language": "python",
   "name": "python3"
  },
  "language_info": {
   "codemirror_mode": {
    "name": "ipython",
    "version": 3
   },
   "file_extension": ".py",
   "mimetype": "text/x-python",
   "name": "python",
   "nbconvert_exporter": "python",
   "pygments_lexer": "ipython3",
   "version": "3.7.8"
  }
 },
 "nbformat": 4,
 "nbformat_minor": 5
}
