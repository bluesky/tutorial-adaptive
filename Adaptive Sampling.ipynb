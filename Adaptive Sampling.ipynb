{
 "cells": [
  {
   "cell_type": "markdown",
   "id": "3def1a38",
   "metadata": {},
   "source": [
    "# Adaptive Sampling\n",
    "\n",
    "In this tutorial you will learn:\n",
    "    \n",
    "    ...\n",
    "    \n",
    "    "
   ]
  },
  {
   "cell_type": "markdown",
   "id": "8499988e",
   "metadata": {},
   "source": [
    "## Some of the software we use:\n",
    "\n",
    "* **Bluesky RunEngine** for experiment orchestration (sequencing)\n",
    "* **Bluesky Ophyd** for device integration (for this demo, a simulated detector)\n",
    "* **Bluesky Widgets** components for live-updating (\"streaming\") visualization\n",
    "* **Matplotlib** for visualization\n",
    "* **Bluesky Adaptive**, an adaptive \"harness\" for integrating an Agent in a feedback loop with the Bluesky RunEngine\n",
    "* **Tensorflow** for the model"
   ]
  },
  {
   "cell_type": "code",
   "execution_count": null,
   "id": "a45e1550",
   "metadata": {},
   "outputs": [],
   "source": [
    "%matplotlib widget\n",
    "\n",
    "import matplotlib.pyplot as plt"
   ]
  },
  {
   "cell_type": "code",
   "execution_count": null,
   "id": "fd5b72bf",
   "metadata": {},
   "outputs": [],
   "source": [
    "from bluesky import RunEngine\n",
    "from bluesky.plans import count\n",
    "from utils.simulated_hardware import detector, sample_selector, select_sample\n",
    "from utils.visualization import stream_to_figures\n",
    "from utils.adaptive_recommendations import with_agent"
   ]
  },
  {
   "cell_type": "markdown",
   "id": "02d28008",
   "metadata": {},
   "source": [
    "## Make a \"RunEngine\"\n",
    "\n",
    "* Processes a set of instructions (a \"plan\") from the user\n",
    "* Direct hardware, tracks what is moving when, and tries to clean up correct in the event of success or failures\n",
    "* Emits metadata and data in a streaming fashion for consumers (plots, models, storage, etc.)"
   ]
  },
  {
   "cell_type": "code",
   "execution_count": null,
   "id": "a64c9387",
   "metadata": {
    "pycharm": {
     "name": "#%%\n"
    }
   },
   "outputs": [],
   "source": [
    "RE = RunEngine()"
   ]
  },
  {
   "cell_type": "markdown",
   "id": "359f5983",
   "metadata": {},
   "source": [
    "The RunEngine can move this things, and it can take data."
   ]
  },
  {
   "cell_type": "markdown",
   "id": "1ad8a68d",
   "metadata": {},
   "source": [
    "## Acquire some images"
   ]
  },
  {
   "cell_type": "code",
   "execution_count": null,
   "id": "e5e024a2",
   "metadata": {},
   "outputs": [],
   "source": [
    "RE(select_sample(0))  # This moves a sample positioner to place Sample 0 in the beam."
   ]
  },
  {
   "cell_type": "markdown",
   "id": "4982b9c8",
   "metadata": {},
   "source": [
    "Set up a Figure which we will stream data into."
   ]
  },
  {
   "cell_type": "code",
   "execution_count": null,
   "id": "e8565a7c",
   "metadata": {},
   "outputs": [],
   "source": [
    "fig, axes = plt.subplots(squeeze=False, constrained_layout=True, figsize=(5, 5))\n",
    "callback = stream_to_figures(fig, axes)"
   ]
  },
  {
   "cell_type": "markdown",
   "id": "1bff5318",
   "metadata": {},
   "source": [
    "Take data. The figure above will show the image."
   ]
  },
  {
   "cell_type": "code",
   "execution_count": null,
   "id": "4934c84f",
   "metadata": {},
   "outputs": [],
   "source": [
    "RE(count([sample_selector, detector]), callback)"
   ]
  },
  {
   "cell_type": "markdown",
   "id": "4da7e522",
   "metadata": {},
   "source": [
    "This sample happens to be \"good\". It gives a strong signal (high signal-to-noise ratio). A single exposure produces an image with sufficient contrast to interpret scientifically.\n",
    "\n",
    "Now, move to the next sample, set up a new figure, and acquire another image."
   ]
  },
  {
   "cell_type": "code",
   "execution_count": null,
   "id": "4c9b28f2",
   "metadata": {},
   "outputs": [],
   "source": [
    "RE(select_sample(1))"
   ]
  },
  {
   "cell_type": "code",
   "execution_count": null,
   "id": "f6724a4c",
   "metadata": {},
   "outputs": [],
   "source": [
    "fig, axes = plt.subplots(squeeze=False, constrained_layout=True, figsize=(5, 5))\n",
    "callback = stream_to_figures(fig, axes, start_at=1)"
   ]
  },
  {
   "cell_type": "code",
   "execution_count": null,
   "id": "28532187",
   "metadata": {},
   "outputs": [],
   "source": [
    "RE(count([sample_selector, detector]), callback)"
   ]
  },
  {
   "cell_type": "markdown",
   "id": "2b88f99d",
   "metadata": {},
   "source": [
    "This sample happens to be \"bad\". It gives a weak signal (low signal-to-noise ratio). A single exposure does not produce sufficient contrast, but we can take additional exposures. The visualization above will display the average of all the exposures of this sample."
   ]
  },
  {
   "cell_type": "code",
   "execution_count": null,
   "id": "1ef4b45e",
   "metadata": {},
   "outputs": [],
   "source": [
    "RE(count([sample_selector, detector]), callback)"
   ]
  },
  {
   "cell_type": "markdown",
   "id": "53a34773",
   "metadata": {},
   "source": [
    "## Acquire images for more than one sample\n",
    "\n",
    "Here, we make a Figure that display images for both the first (good) and second (bad) sample. As we acquire images, we will see them side by side here."
   ]
  },
  {
   "cell_type": "code",
   "execution_count": null,
   "id": "faff1a30",
   "metadata": {},
   "outputs": [],
   "source": [
    "fig, axes = plt.subplots(1, 2, squeeze=False, constrained_layout=True, figsize=(5, 3))\n",
    "callback = stream_to_figures(fig, axes)"
   ]
  },
  {
   "cell_type": "code",
   "execution_count": null,
   "id": "ca88b426",
   "metadata": {},
   "outputs": [],
   "source": [
    "RE(select_sample(0))"
   ]
  },
  {
   "cell_type": "code",
   "execution_count": null,
   "id": "7fa382fe",
   "metadata": {},
   "outputs": [],
   "source": [
    "RE(count([sample_selector, detector]), callback)"
   ]
  },
  {
   "cell_type": "code",
   "execution_count": null,
   "id": "a3f45562",
   "metadata": {},
   "outputs": [],
   "source": [
    "RE(select_sample(1))"
   ]
  },
  {
   "cell_type": "code",
   "execution_count": null,
   "id": "48068bc7",
   "metadata": {},
   "outputs": [],
   "source": [
    "RE(count([sample_selector, detector]), callback)"
   ]
  },
  {
   "cell_type": "code",
   "execution_count": null,
   "id": "e305ab37",
   "metadata": {},
   "outputs": [],
   "source": [
    "RE(count([sample_selector, detector]), callback)"
   ]
  },
  {
   "cell_type": "markdown",
   "id": "98cc8559",
   "metadata": {},
   "source": [
    "## Write a custom Bluesky \"plan\" to sweep samples"
   ]
  },
  {
   "cell_type": "code",
   "execution_count": null,
   "id": "321fa52f",
   "metadata": {},
   "outputs": [],
   "source": [
    "def sequential_sweep(total_shots):\n",
    "    \"Sweep over the samples in order. Take up to `total_shots` shots.\"\n",
    "    for shot in range(total_shots):\n",
    "        yield from select_sample(shot % 9)\n",
    "        yield from count([sample_selector, detector])"
   ]
  },
  {
   "cell_type": "code",
   "execution_count": null,
   "id": "42e01f42",
   "metadata": {},
   "outputs": [],
   "source": [
    "fig, axes = plt.subplots(3, 3, constrained_layout=True, figsize=(5, 5))\n",
    "callback = stream_to_figures(fig, axes)"
   ]
  },
  {
   "cell_type": "code",
   "execution_count": null,
   "id": "f2b5c889",
   "metadata": {},
   "outputs": [],
   "source": [
    "unique_ids = RE(sequential_sweep(total_shots=18), callback)"
   ]
  },
  {
   "cell_type": "markdown",
   "id": "e4745e27",
   "metadata": {},
   "source": [
    "## Use `bluesky-adaptive` to let an Agent drive the experiment\n",
    "\n",
    "It is have access to the data as it is acquired and use this to decide when to move to the next sample.\n",
    "\n",
    "These particular agents are aware of a \"budget\" of time for this experiment. They aim to make the most efficient use of the available time to obtain high-constrant, interpretable images.\n",
    "\n",
    "### Agent 1: Naive Agent\n",
    "\n",
    "This will do effectively same thing we just did above---sequential sweeps---but it will do so using the `bluesky-adaptive` machinery."
   ]
  },
  {
   "cell_type": "code",
   "execution_count": null,
   "id": "202cb914",
   "metadata": {},
   "outputs": [],
   "source": [
    "fig, axes = plt.subplots(3, 3, constrained_layout=True, figsize=(5, 5))\n",
    "callback = stream_to_figures(fig, axes)"
   ]
  },
  {
   "cell_type": "code",
   "execution_count": null,
   "id": "8dd4b121",
   "metadata": {},
   "outputs": [],
   "source": [
    "from utils.adaptive_recommendations import NaiveAgent\n",
    "\n",
    "unique_ids = RE(\n",
    "    with_agent(NaiveAgent(9), max_shots=50),\n",
    "    callback,\n",
    ")"
   ]
  },
  {
   "cell_type": "markdown",
   "id": "bbcca6da",
   "metadata": {},
   "source": [
    "### Agent 2: Reinforcement Learning Agent\n",
    "\n"
   ]
  },
  {
   "cell_type": "code",
   "execution_count": null,
   "id": "5c15e951",
   "metadata": {},
   "outputs": [],
   "source": [
    "fig, axes = plt.subplots(3, 3, constrained_layout=True, figsize=(5, 5))\n",
    "callback = stream_to_figures(fig, axes)"
   ]
  },
  {
   "cell_type": "code",
   "execution_count": null,
   "id": "e42ce791",
   "metadata": {},
   "outputs": [],
   "source": [
    "from utils.adaptive_recommendations import RLAgent\n",
    "\n",
    "unique_ids = RE(\n",
    "    with_agent(RLAgent(9, 'tf_models/bluesky-tutorial/saved_models'), max_shots=50),\n",
    "    callback,\n",
    ")"
   ]
  },
  {
   "cell_type": "markdown",
   "id": "f8bf54ab",
   "metadata": {},
   "source": [
    "### Agent 3: \"Cheating\" (Omniscient) Agent\n",
    "\n",
    "This agent is told *a priori* which samples are good and which are bad."
   ]
  },
  {
   "cell_type": "code",
   "execution_count": null,
   "id": "acbb6b4c",
   "metadata": {},
   "outputs": [],
   "source": [
    "fig, axes = plt.subplots(3, 3, constrained_layout=True, figsize=(5, 5))\n",
    "callback = stream_to_figures(fig, axes)"
   ]
  },
  {
   "cell_type": "code",
   "execution_count": null,
   "id": "5d4428b1",
   "metadata": {},
   "outputs": [],
   "source": [
    "from utils.adaptive_recommendations import CheatingAgent\n",
    "\n",
    "unique_ids = RE(\n",
    "    with_agent(CheatingAgent(9), max_shots=50),\n",
    "    callback,\n",
    ")"
   ]
  },
  {
   "cell_type": "code",
   "execution_count": null,
   "id": "5bcec11b",
   "metadata": {},
   "outputs": [],
   "source": []
  }
 ],
 "metadata": {
  "kernelspec": {
   "display_name": "Python 3",
   "language": "python",
   "name": "python3"
  },
  "language_info": {
   "codemirror_mode": {
    "name": "ipython",
    "version": 3
   },
   "file_extension": ".py",
   "mimetype": "text/x-python",
   "name": "python",
   "nbconvert_exporter": "python",
   "pygments_lexer": "ipython3",
   "version": "3.7.8"
  }
 },
 "nbformat": 4,
 "nbformat_minor": 5
}
