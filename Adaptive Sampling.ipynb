{
 "cells": [
  {
   "cell_type": "markdown",
   "id": "371decde",
   "metadata": {},
   "source": [
    "# Adaptive Sampling\n",
    "\n",
    "In this tutorial you will learn:\n",
    "    \n",
    "    ...\n",
    "    \n",
    "    "
   ]
  },
  {
   "cell_type": "code",
   "execution_count": null,
   "id": "5cf959b8",
   "metadata": {},
   "outputs": [],
   "source": [
    "from bluesky import RunEngine\n",
    "from bluesky.plans import count\n",
    "from utils.simulated_hardware import detector, sample_selector, select_sample\n",
    "from utils.visualization import SummedImages, JupyterFigure\n",
    "from bluesky_widgets.utils.streaming import stream_documents_into_runs\n",
    "from bluesky_widgets.models.plot_specs import Axes, Figure"
   ]
  },
  {
   "cell_type": "code",
   "execution_count": null,
   "id": "04c65bc3",
   "metadata": {},
   "outputs": [],
   "source": [
    "axes_list = [Axes() for _ in range(9)]\n",
    "figure_model = Figure(axes_list, title=\"Summed Exposures\")\n",
    "models = [SummedImages(\"detector_image\", axes=axes) for axes in axes_list]\n",
    "figure = JupyterFigure(figure_model)\n",
    "figure"
   ]
  },
  {
   "cell_type": "code",
   "execution_count": null,
   "id": "330bb296",
   "metadata": {
    "pycharm": {
     "name": "#%%\n"
    }
   },
   "outputs": [],
   "source": [
    "RE = RunEngine()"
   ]
  },
  {
   "cell_type": "code",
   "execution_count": null,
   "id": "f5f365c5",
   "metadata": {},
   "outputs": [],
   "source": [
    "def sequential_sweep(total_shots=10):\n",
    "    for shot in range(total_shots):\n",
    "        yield from select_sample(shot % 9)\n",
    "        yield from count([detector])"
   ]
  },
  {
   "cell_type": "code",
   "execution_count": null,
   "id": "f1b41fd5",
   "metadata": {},
   "outputs": [],
   "source": [
    "RE(select_sample(0))"
   ]
  },
  {
   "cell_type": "code",
   "execution_count": null,
   "id": "55ac901e",
   "metadata": {},
   "outputs": [],
   "source": [
    "def do_the_thing(det, key_of_badness, sample_positions, max_shots=25):\n",
    "    sample_positions = np.array(sample_positions)\n",
    "\n",
    "    # we know that at the reccomender level we do not want to know anything\n",
    "    # about the real motor positions.  This function converts from lab\n",
    "    # space to notional \"enviroment\" space\n",
    "    def motor_to_sample_indx(pos):\n",
    "        pos = pos.compute().data\n",
    "        return np.argmin(np.abs(sample_positions - pos))\n",
    "\n",
    "    # Converesly, at the beamline we have to work in real coordinates, this function\n",
    "    # converts from the \"enviroment\" coordinate system to\n",
    "    def sample_indx_to_motor(indx):\n",
    "        return sample_positions[int(indx)]\n",
    "\n",
    "    # create the (pre-trained) reccomender.\n",
    "    recommender = BadSeedRecommender(num_samples=len(sample_positions))\n",
    "    # set up the machinery to:\n",
    "    #  - unpack and reduce the raw data\n",
    "    #  - pass the reduced data into the recommendation engine (tell)\n",
    "    #  - get the recommended next step back from the recommendation engine (ask)\n",
    "    #  - translate back to physical units\n",
    "    #\n",
    "    #  The two return values are:\n",
    "    #\n",
    "    #   cb : where the collected data should be sent\n",
    "    #   queue : where the plan should query to get the next step\n",
    "    cb, queue = recommender_factory(\n",
    "        adaptive_obj=recommender,\n",
    "        independent_keys=[lambda motor: motor_to_sample_indx(motor)],\n",
    "        dependent_keys=[key_of_badness],\n",
    "        target_keys=[\"motor\"],\n",
    "        target_transforms={\"motor\": sample_indx_to_motor},\n",
    "        max_count=max_shots,\n",
    "    )\n",
    "\n",
    "    # The adaptive plan takes in:\n",
    "    #\n",
    "    #   dets : the detectors to be read\n",
    "    #   first_point : where to start the scan\n",
    "    #   to_recommender : the call back from above\n",
    "    #   from_recommender : the queue from above\n",
    "    #\n",
    "    #  This takes care of running data collection, moving as instructed by the\n",
    "    #  recommendation.\n",
    "    yield from adaptive_plan(\n",
    "        dets=[det],\n",
    "        first_point={hw.motor: 1},\n",
    "        to_recommender=cb,\n",
    "        from_recommender=queue,\n",
    "    )"
   ]
  },
  {
   "cell_type": "code",
   "execution_count": null,
   "id": "731d26fb",
   "metadata": {},
   "outputs": [],
   "source": [
    "RE(count([detector], 10, delay=1), stream_documents_into_runs(models[0].add_run))"
   ]
  },
  {
   "cell_type": "code",
   "execution_count": null,
   "id": "85f5b613",
   "metadata": {},
   "outputs": [],
   "source": []
  }
 ],
 "metadata": {
  "kernelspec": {
   "display_name": "Python 3",
   "language": "python",
   "name": "python3"
  },
  "language_info": {
   "codemirror_mode": {
    "name": "ipython",
    "version": 3
   },
   "file_extension": ".py",
   "mimetype": "text/x-python",
   "name": "python",
   "nbconvert_exporter": "python",
   "pygments_lexer": "ipython3",
   "version": "3.7.8"
  }
 },
 "nbformat": 4,
 "nbformat_minor": 5
}
