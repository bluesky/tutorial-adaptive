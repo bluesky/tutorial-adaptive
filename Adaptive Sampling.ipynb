{
 "cells": [
  {
   "cell_type": "markdown",
   "id": "military-emerald",
   "metadata": {},
   "source": [
    "# Adaptive Sampling\n",
    "\n",
    "In this tutorial you will learn:\n",
    "    \n",
    "    ...\n",
    "    \n",
    "    "
   ]
  },
  {
   "cell_type": "code",
   "execution_count": null,
   "id": "amended-counter",
   "metadata": {},
   "outputs": [],
   "source": [
    "from bluesky import RunEngine\n",
    "from bluesky.plans import count\n",
    "from simulated_hardware import detector, load_sample, unload_sample, light\n",
    "from bluesky_widgets.models.plot_builders import Images\n",
    "from bluesky_widgets.jupyter.figures import JupyterFigure\n",
    "from bluesky_widgets.utils.streaming import stream_documents_into_runs"
   ]
  },
  {
   "cell_type": "code",
   "execution_count": null,
   "id": "55637353-f426-4119-853b-caea7ff364cf",
   "metadata": {},
   "outputs": [],
   "source": [
    "model = Images(\"detector_image\")\n",
    "figure = JupyterFigure(model.figure)\n",
    "figure"
   ]
  },
  {
   "cell_type": "code",
   "execution_count": null,
   "id": "f21245ac",
   "metadata": {
    "pycharm": {
     "name": "#%%\n"
    }
   },
   "outputs": [],
   "source": [
    "RE = RunEngine()"
   ]
  },
  {
   "cell_type": "code",
   "execution_count": null,
   "id": "f340c53a-ee9c-4faf-8f40-49017844cc40",
   "metadata": {},
   "outputs": [],
   "source": [
    "RE(load_sample(1))"
   ]
  },
  {
   "cell_type": "code",
   "execution_count": null,
   "id": "122f4d52-72fa-4098-b4ac-6625a3bc5e0a",
   "metadata": {},
   "outputs": [],
   "source": [
    "# Turn on light\n",
    "RE(light(True))"
   ]
  },
  {
   "cell_type": "code",
   "execution_count": null,
   "id": "f4896fca-3ea9-4530-be53-0ae88f13cf7e",
   "metadata": {},
   "outputs": [],
   "source": [
    "a = []"
   ]
  },
  {
   "cell_type": "code",
   "execution_count": null,
   "id": "db0c720c-83d9-47fd-86ec-541eab0051a1",
   "metadata": {},
   "outputs": [],
   "source": [
    "RE(count([detector]), stream_documents_into_runs(model.add_run))"
   ]
  },
  {
   "cell_type": "code",
   "execution_count": null,
   "id": "bf8ccae4-8421-4d2f-8ccd-0b77f07f182d",
   "metadata": {},
   "outputs": [],
   "source": [
    "run = a[0]"
   ]
  },
  {
   "cell_type": "code",
   "execution_count": null,
   "id": "30561a00-01d0-4ce9-8a15-2cf5fea12268",
   "metadata": {},
   "outputs": [],
   "source": [
    "model.runs.append(run)"
   ]
  },
  {
   "cell_type": "code",
   "execution_count": null,
   "id": "4d8b38c4-1f80-4c18-84ea-6b3ebca4daac",
   "metadata": {},
   "outputs": [],
   "source": []
  }
 ],
 "metadata": {
  "kernelspec": {
   "display_name": "Python 3",
   "language": "python",
   "name": "python3"
  },
  "language_info": {
   "codemirror_mode": {
    "name": "ipython",
    "version": 3
   },
   "file_extension": ".py",
   "mimetype": "text/x-python",
   "name": "python",
   "nbconvert_exporter": "python",
   "pygments_lexer": "ipython3",
   "version": "3.7.8"
  }
 },
 "nbformat": 4,
 "nbformat_minor": 5
}
