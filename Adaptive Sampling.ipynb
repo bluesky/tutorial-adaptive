{
 "cells": [
  {
   "cell_type": "markdown",
   "id": "954259a4",
   "metadata": {},
   "source": [
    "# Adaptive Sampling\n",
    "\n",
    "In this tutorial you will learn:\n",
    "    \n",
    "    ...\n",
    "    \n",
    "    "
   ]
  },
  {
   "cell_type": "code",
   "execution_count": null,
   "id": "6729cfad",
   "metadata": {},
   "outputs": [],
   "source": [
    "from bluesky import RunEngine\n",
    "from bluesky.plans import count\n",
    "from utils.simulated_hardware import detector, sample_selector, select_sample\n",
    "from utils.visualization import SummedImages, JupyterFigure\n",
    "from bluesky_widgets.utils.streaming import stream_documents_into_runs\n",
    "from bluesky_widgets.models.plot_specs import Axes, Figure"
   ]
  },
  {
   "cell_type": "code",
   "execution_count": null,
   "id": "8ed9c222",
   "metadata": {},
   "outputs": [],
   "source": [
    "axes_list = [Axes() for _ in range(9)]\n",
    "figure_model = Figure(axes_list, title=\"Summed Exposures\")\n",
    "models = [SummedImages(\"detector_image\", axes=axes) for axes in axes_list]\n",
    "figure = JupyterFigure(figure_model)\n",
    "figure"
   ]
  },
  {
   "cell_type": "code",
   "execution_count": null,
   "id": "1c53ac4b",
   "metadata": {
    "pycharm": {
     "name": "#%%\n"
    }
   },
   "outputs": [],
   "source": [
    "RE = RunEngine()"
   ]
  },
  {
   "cell_type": "code",
   "execution_count": null,
   "id": "8fc61c2b",
   "metadata": {},
   "outputs": [],
   "source": [
    "def sequential_sweep(total_shots=10):\n",
    "    for shot in range(total_shots):\n",
    "        yield from select_sample(shot % 9)\n",
    "        yield from count([detector])"
   ]
  },
  {
   "cell_type": "code",
   "execution_count": null,
   "id": "8dc1b6a5",
   "metadata": {},
   "outputs": [],
   "source": [
    "RE(select_sample(0))"
   ]
  },
  {
   "cell_type": "code",
   "execution_count": null,
   "id": "6ec00373",
   "metadata": {},
   "outputs": [],
   "source": [
    "RE(count([detector], 10, delay=1), stream_documents_into_runs(models[0].add_run))"
   ]
  },
  {
   "cell_type": "code",
   "execution_count": null,
   "id": "026b73d6",
   "metadata": {},
   "outputs": [],
   "source": []
  }
 ],
 "metadata": {
  "kernelspec": {
   "display_name": "Python 3",
   "language": "python",
   "name": "python3"
  },
  "language_info": {
   "codemirror_mode": {
    "name": "ipython",
    "version": 3
   },
   "file_extension": ".py",
   "mimetype": "text/x-python",
   "name": "python",
   "nbconvert_exporter": "python",
   "pygments_lexer": "ipython3",
   "version": "3.7.8"
  }
 },
 "nbformat": 4,
 "nbformat_minor": 5
}
