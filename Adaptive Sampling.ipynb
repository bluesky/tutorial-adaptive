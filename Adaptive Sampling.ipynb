{
 "cells": [
  {
   "cell_type": "markdown",
   "id": "cc2919c7",
   "metadata": {},
   "source": [
    "# Adaptive Sampling\n",
    "\n",
    "In this tutorial you will learn:\n",
    "    \n",
    "    ...\n",
    "    \n",
    "    "
   ]
  },
  {
   "cell_type": "code",
   "execution_count": null,
   "id": "9dbe52c4",
   "metadata": {},
   "outputs": [],
   "source": [
    "from bluesky import RunEngine\n",
    "from bluesky.plans import count\n",
    "from simulated_hardware import detector, load_sample, unload_sample, light\n",
    "from utils.visualization import SummedImages, JupyterFigure\n",
    "from bluesky_widgets.utils.streaming import stream_documents_into_runs\n",
    "from bluesky_widgets.models.plot_specs import Axes, Figure"
   ]
  },
  {
   "cell_type": "code",
   "execution_count": null,
   "id": "8c02e8c8",
   "metadata": {},
   "outputs": [],
   "source": [
    "axes_list = [Axes() for _ in range(9)]\n",
    "figure_model = Figure(axes_list, title=\"Summed Exposures\")\n",
    "models = [SummedImages(\"detector_image\", axes=axes) for axes in axes_list]\n",
    "figure = JupyterFigure(figure_model)\n",
    "figure"
   ]
  },
  {
   "cell_type": "code",
   "execution_count": null,
   "id": "d425e291",
   "metadata": {
    "pycharm": {
     "name": "#%%\n"
    }
   },
   "outputs": [],
   "source": [
    "RE = RunEngine()"
   ]
  },
  {
   "cell_type": "code",
   "execution_count": null,
   "id": "ff595329",
   "metadata": {},
   "outputs": [],
   "source": [
    "RE(load_sample(1))"
   ]
  },
  {
   "cell_type": "code",
   "execution_count": null,
   "id": "e8b8beed",
   "metadata": {},
   "outputs": [],
   "source": [
    "# Turn on light\n",
    "RE(light(True))"
   ]
  },
  {
   "cell_type": "code",
   "execution_count": null,
   "id": "fb21f03c",
   "metadata": {},
   "outputs": [],
   "source": [
    "RE(count([detector], 10, delay=1), stream_documents_into_runs(models[0].add_run))"
   ]
  },
  {
   "cell_type": "code",
   "execution_count": null,
   "id": "84be7cca",
   "metadata": {},
   "outputs": [],
   "source": []
  }
 ],
 "metadata": {
  "kernelspec": {
   "display_name": "Python 3",
   "language": "python",
   "name": "python3"
  },
  "language_info": {
   "codemirror_mode": {
    "name": "ipython",
    "version": 3
   },
   "file_extension": ".py",
   "mimetype": "text/x-python",
   "name": "python",
   "nbconvert_exporter": "python",
   "pygments_lexer": "ipython3",
   "version": "3.7.8"
  }
 },
 "nbformat": 4,
 "nbformat_minor": 5
}
