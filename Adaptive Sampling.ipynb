{
 "cells": [
  {
   "cell_type": "markdown",
   "id": "deluxe-pressing",
   "metadata": {},
   "source": [
    "# Adaptive Sampling\n",
    "\n",
    "In this tutorial you will learn:\n",
    "    \n",
    "1. Basic acquisition using RunEngine\n",
    "2. Generating basic acquistion plans for multiple sample enviornments on a simulated diffraction beamline\n",
    "3. How to use the Bluesky Adaptive harness to readly integrate AI-agents with the beamline\n",
    "4. Demonstration of Reinforcement Learning (RL) being used to optimize data collection stradegies\n",
    "\n",
    "\n",
    "For more bluesky tutorials, goto https://try.nsls2.bnl.gov/"
   ]
  },
  {
   "cell_type": "markdown",
   "id": "waiting-palmer",
   "metadata": {},
   "source": [
    "<img src=\"BS_layout.png\" alt=\"Bluesky flow diagram\" style=\"width: 600px;\"/>  [(image source)](https://iopscience.iop.org/article/10.1088/2632-2153/abc9fc)"
   ]
  },
  {
   "cell_type": "markdown",
   "id": "cubic-metro",
   "metadata": {},
   "source": [
    "## Some of the software we use:\n",
    "\n",
    "* **Bluesky RunEngine** for experiment orchestration (sequencing)\n",
    "* **Bluesky Ophyd** for device integration (for this demo, a simulated detector)\n",
    "* **Bluesky Widgets** components for live-updating (\"streaming\") visualization\n",
    "* **Matplotlib** for visualization\n",
    "* **Bluesky Adaptive**, an adaptive \"harness\" for integrating an Agent in a feedback loop with the Bluesky RunEngine\n",
    "* **Tensorflow** for the model"
   ]
  },
  {
   "cell_type": "code",
   "execution_count": null,
   "id": "opposite-vegetable",
   "metadata": {},
   "outputs": [],
   "source": [
    "%matplotlib widget\n",
    "\n",
    "import matplotlib.pyplot as plt"
   ]
  },
  {
   "cell_type": "code",
   "execution_count": null,
   "id": "increased-nylon",
   "metadata": {},
   "outputs": [],
   "source": [
    "from bluesky import RunEngine\n",
    "from bluesky.plans import count\n",
    "from utils.simulated_hardware import detector, sample_selector, select_sample\n",
    "from utils.visualization import stream_to_figures\n",
    "from utils.adaptive_recommendations import with_agent"
   ]
  },
  {
   "cell_type": "markdown",
   "id": "naval-hampshire",
   "metadata": {},
   "source": [
    "## Make a \"RunEngine\"\n",
    "\n",
    "* Processes a set of instructions (a \"plan\") from the user\n",
    "* Direct hardware, tracks what is moving when, and tries to clean up correct in the event of success or failures\n",
    "* Emits metadata and data in a streaming fashion for consumers (plots, models, storage, etc.)"
   ]
  },
  {
   "cell_type": "code",
   "execution_count": null,
   "id": "equipped-paint",
   "metadata": {
    "pycharm": {
     "name": "#%%\n"
    }
   },
   "outputs": [],
   "source": [
    "RE = RunEngine()"
   ]
  },
  {
   "cell_type": "markdown",
   "id": "union-frequency",
   "metadata": {},
   "source": [
    "The RunEngine can move this things, and it can take data."
   ]
  },
  {
   "cell_type": "markdown",
   "id": "opposite-winter",
   "metadata": {},
   "source": [
    "## Acquire some images"
   ]
  },
  {
   "cell_type": "markdown",
   "id": "respiratory-morris",
   "metadata": {},
   "source": [
    "For this tutorial, we will be moving a 'sample selector' ophyd device, which can switch between samples on our simulated beamline.  We can read the current status of the motor (called <code>sample_selector</code>) to see which sample we are on."
   ]
  },
  {
   "cell_type": "code",
   "execution_count": null,
   "id": "american-legend",
   "metadata": {},
   "outputs": [],
   "source": [
    "sample_selector.read()"
   ]
  },
  {
   "cell_type": "markdown",
   "id": "systematic-drunk",
   "metadata": {},
   "source": [
    "To move this motor, we could use the built-in bluesky <code>mv</code> plan.."
   ]
  },
  {
   "cell_type": "code",
   "execution_count": null,
   "id": "integral-government",
   "metadata": {},
   "outputs": [],
   "source": [
    "from bluesky.plan_stubs import mv\n",
    "\n",
    "RE(mv(sample_selector,2))\n",
    "\n",
    "print (sample_selector.read())"
   ]
  },
  {
   "cell_type": "markdown",
   "id": "registered-parade",
   "metadata": {},
   "source": [
    "Or, we can write our own custom plan with whatever language and extensions we wish."
   ]
  },
  {
   "cell_type": "code",
   "execution_count": null,
   "id": "passive-times",
   "metadata": {},
   "outputs": [],
   "source": [
    "def select_sample(sample_number):\n",
    "    yield from mv(sample_selector, sample_number)"
   ]
  },
  {
   "cell_type": "code",
   "execution_count": null,
   "id": "known-utility",
   "metadata": {},
   "outputs": [],
   "source": [
    "RE(select_sample(0))  # This moves a sample positioner to place Sample 0 in the beam."
   ]
  },
  {
   "cell_type": "markdown",
   "id": "adjustable-husband",
   "metadata": {},
   "source": [
    "In this tutorial, we are focused on utilizing the streaming data document-model based interface of Bluesky.  As such, we're going to setup our visualizations first, and then stream data into them as we are measuring.  \n",
    "\n",
    "Functionally, this involve creating a figure and axes with matplotlib, and then passing these to a callback function that will digest documents emitted by our RunEngine."
   ]
  },
  {
   "cell_type": "code",
   "execution_count": null,
   "id": "southeast-shaft",
   "metadata": {},
   "outputs": [],
   "source": [
    "fig, axes = plt.subplots(squeeze=False, constrained_layout=True, figsize=(5, 5))\n",
    "callback = stream_to_figures(fig, axes)"
   ]
  },
  {
   "cell_type": "markdown",
   "id": "brown-active",
   "metadata": {},
   "source": [
    "You should see a checkerboard pattern, and some basic metadata in the title (sample number, and measurment number)"
   ]
  },
  {
   "cell_type": "code",
   "execution_count": null,
   "id": "greater-theme",
   "metadata": {},
   "outputs": [],
   "source": [
    "detector.delay = 10"
   ]
  },
  {
   "cell_type": "code",
   "execution_count": null,
   "id": "pharmaceutical-treaty",
   "metadata": {},
   "outputs": [],
   "source": [
    "RE(count([sample_selector, detector]), callback)"
   ]
  },
  {
   "cell_type": "markdown",
   "id": "metropolitan-suggestion",
   "metadata": {},
   "source": [
    "This sample happens to be \"good\". It gives a strong signal (high signal-to-noise ratio). A single exposure produces an image with sufficient contrast to interpret scientifically.  Although if we want, we can measure again and the plot will automatically average the images together.  Notice the N_shots count increases.\n",
    "\n",
    "Now, move to the next sample, set up a new figure, and acquire another image."
   ]
  },
  {
   "cell_type": "code",
   "execution_count": null,
   "id": "invisible-scotland",
   "metadata": {},
   "outputs": [],
   "source": [
    "RE(count([sample_selector, detector]), callback)"
   ]
  },
  {
   "cell_type": "code",
   "execution_count": null,
   "id": "official-webster",
   "metadata": {},
   "outputs": [],
   "source": []
  },
  {
   "cell_type": "code",
   "execution_count": null,
   "id": "ethical-great",
   "metadata": {},
   "outputs": [],
   "source": [
    "fig, axes = plt.subplots(squeeze=False, constrained_layout=True, figsize=(5, 5))\n",
    "callback = stream_to_figures(fig, axes, start_at=1)"
   ]
  },
  {
   "cell_type": "code",
   "execution_count": null,
   "id": "worse-teaching",
   "metadata": {},
   "outputs": [],
   "source": [
    "RE(count([sample_selector, detector]), callback)"
   ]
  },
  {
   "cell_type": "markdown",
   "id": "organized-basement",
   "metadata": {},
   "source": [
    "This sample happens to be \"bad\". It gives a weak signal (low signal-to-noise ratio). A single exposure does not produce sufficient contrast, but we can take additional exposures. The visualization above will display the average of all the exposures of this sample."
   ]
  },
  {
   "cell_type": "code",
   "execution_count": null,
   "id": "italian-developer",
   "metadata": {},
   "outputs": [],
   "source": [
    "RE(count([sample_selector, detector]), callback)"
   ]
  },
  {
   "cell_type": "markdown",
   "id": "everyday-oasis",
   "metadata": {},
   "source": [
    "## Acquire images for more than one sample\n",
    "\n",
    "Here, we make a Figure that display images for both the first (good) and second (bad) sample. As we acquire images, we will see them side by side here."
   ]
  },
  {
   "cell_type": "code",
   "execution_count": null,
   "id": "familiar-defense",
   "metadata": {},
   "outputs": [],
   "source": [
    "fig, axes = plt.subplots(1, 2, squeeze=False, constrained_layout=True, figsize=(5, 3))\n",
    "callback = stream_to_figures(fig, axes)"
   ]
  },
  {
   "cell_type": "code",
   "execution_count": null,
   "id": "compressed-footage",
   "metadata": {},
   "outputs": [],
   "source": [
    "RE(select_sample(0))"
   ]
  },
  {
   "cell_type": "code",
   "execution_count": null,
   "id": "productive-campus",
   "metadata": {},
   "outputs": [],
   "source": [
    "RE(count([sample_selector, detector]), callback)"
   ]
  },
  {
   "cell_type": "code",
   "execution_count": null,
   "id": "developed-hydrogen",
   "metadata": {},
   "outputs": [],
   "source": [
    "RE(select_sample(1))"
   ]
  },
  {
   "cell_type": "code",
   "execution_count": null,
   "id": "complex-motel",
   "metadata": {},
   "outputs": [],
   "source": [
    "RE(count([sample_selector, detector]), callback)"
   ]
  },
  {
   "cell_type": "code",
   "execution_count": null,
   "id": "comparable-technical",
   "metadata": {},
   "outputs": [],
   "source": [
    "RE(count([sample_selector, detector]), callback)"
   ]
  },
  {
   "cell_type": "markdown",
   "id": "funded-american",
   "metadata": {},
   "source": [
    "## Write a custom Bluesky \"plan\" to sweep samples"
   ]
  },
  {
   "cell_type": "code",
   "execution_count": null,
   "id": "surprised-equality",
   "metadata": {},
   "outputs": [],
   "source": [
    "def sequential_sweep(total_shots):\n",
    "    \"Sweep over the samples in order. Take up to `total_shots` shots.\"\n",
    "    for shot in range(total_shots):\n",
    "        yield from select_sample(shot % 9)\n",
    "        yield from count([sample_selector, detector])"
   ]
  },
  {
   "cell_type": "code",
   "execution_count": null,
   "id": "japanese-moses",
   "metadata": {},
   "outputs": [],
   "source": [
    "fig, axes = plt.subplots(3, 3, constrained_layout=True, figsize=(5, 5))\n",
    "callback = stream_to_figures(fig, axes)"
   ]
  },
  {
   "cell_type": "markdown",
   "id": "under-league",
   "metadata": {},
   "source": [
    "Our simulated detector has a simulated \"delay\", standing in for the exposure and readout time in a real detector. Here we'll make it go faster so the following examples runs faster."
   ]
  },
  {
   "cell_type": "code",
   "execution_count": null,
   "id": "super-store",
   "metadata": {},
   "outputs": [],
   "source": [
    "detector.delay = 0.1"
   ]
  },
  {
   "cell_type": "code",
   "execution_count": null,
   "id": "restricted-remove",
   "metadata": {},
   "outputs": [],
   "source": [
    "unique_ids = RE(sequential_sweep(total_shots=18), callback)"
   ]
  },
  {
   "cell_type": "markdown",
   "id": "incorrect-lunch",
   "metadata": {},
   "source": [
    "## Use `bluesky-adaptive` to let an Agent drive the experiment\n",
    "\n",
    "It is have access to the data as it is acquired and use this to decide when to move to the next sample.\n",
    "\n",
    "These particular agents are aware of a \"budget\" of time for this experiment. They aim to make the most efficient use of the available time to obtain high-constrant, interpretable images.\n",
    "\n",
    "### Agent 1: Naive Agent\n",
    "\n",
    "This will do effectively same thing we just did above---sequential sweeps---but it will do so using the `bluesky-adaptive` machinery."
   ]
  },
  {
   "cell_type": "code",
   "execution_count": null,
   "id": "political-percentage",
   "metadata": {},
   "outputs": [],
   "source": [
    "fig, axes = plt.subplots(3, 3, constrained_layout=True, figsize=(5, 5))\n",
    "callback = stream_to_figures(fig, axes)"
   ]
  },
  {
   "cell_type": "code",
   "execution_count": null,
   "id": "pressed-vienna",
   "metadata": {},
   "outputs": [],
   "source": [
    "from utils.adaptive_recommendations import NaiveAgent\n",
    "\n",
    "unique_ids = RE(\n",
    "    with_agent(NaiveAgent(9), max_shots=50),\n",
    "    callback,\n",
    ")"
   ]
  },
  {
   "cell_type": "markdown",
   "id": "compliant-separate",
   "metadata": {},
   "source": [
    "### Agent 2: Reinforcement Learning Agent\n",
    "\n"
   ]
  },
  {
   "cell_type": "code",
   "execution_count": null,
   "id": "checked-stomach",
   "metadata": {},
   "outputs": [],
   "source": [
    "fig, axes = plt.subplots(3, 3, constrained_layout=True, figsize=(5, 5))\n",
    "callback = stream_to_figures(fig, axes)"
   ]
  },
  {
   "cell_type": "code",
   "execution_count": null,
   "id": "thrown-pennsylvania",
   "metadata": {},
   "outputs": [],
   "source": [
    "from utils.adaptive_recommendations import RLAgent\n",
    "\n",
    "unique_ids = RE(\n",
    "    with_agent(RLAgent(9, 'tf_models/bluesky-tutorial/saved_models'), max_shots=50),\n",
    "    callback,\n",
    ")"
   ]
  },
  {
   "cell_type": "markdown",
   "id": "backed-bruce",
   "metadata": {},
   "source": [
    "### Agent 3: \"Cheating\" (Omniscient) Agent\n",
    "\n",
    "This agent is told *a priori* which samples are good and which are bad."
   ]
  },
  {
   "cell_type": "code",
   "execution_count": null,
   "id": "offensive-universal",
   "metadata": {},
   "outputs": [],
   "source": [
    "fig, axes = plt.subplots(3, 3, constrained_layout=True, figsize=(5, 5))\n",
    "callback = stream_to_figures(fig, axes)"
   ]
  },
  {
   "cell_type": "code",
   "execution_count": null,
   "id": "forced-cinema",
   "metadata": {},
   "outputs": [],
   "source": [
    "from utils.adaptive_recommendations import CheatingAgent\n",
    "\n",
    "unique_ids = RE(\n",
    "    with_agent(CheatingAgent(9), max_shots=50),\n",
    "    callback,\n",
    ")"
   ]
  },
  {
   "cell_type": "code",
   "execution_count": null,
   "id": "cellular-leonard",
   "metadata": {},
   "outputs": [],
   "source": []
  }
 ],
 "metadata": {
  "kernelspec": {
   "display_name": "Python 3",
   "language": "python",
   "name": "python3"
  },
  "language_info": {
   "codemirror_mode": {
    "name": "ipython",
    "version": 3
   },
   "file_extension": ".py",
   "mimetype": "text/x-python",
   "name": "python",
   "nbconvert_exporter": "python",
   "pygments_lexer": "ipython3",
   "version": "3.7.8"
  }
 },
 "nbformat": 4,
 "nbformat_minor": 5
}
