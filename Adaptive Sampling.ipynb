{
 "cells": [
  {
   "cell_type": "markdown",
   "id": "f9cb0343",
   "metadata": {},
   "source": [
    "# Adaptive Sampling\n",
    "\n",
    "In this tutorial you will learn:\n",
    "    \n",
    "    ...\n",
    "    \n",
    "    "
   ]
  },
  {
   "cell_type": "code",
   "execution_count": null,
   "id": "5fc126f7",
   "metadata": {},
   "outputs": [],
   "source": [
    "from bluesky import RunEngine\n",
    "from bluesky.plans import count\n",
    "from utils.simulated_hardware import detector, sample_selector, select_sample\n",
    "from utils.visualization import SummedImages, JupyterFigure\n",
    "from bluesky_widgets.utils.streaming import stream_documents_into_runs\n",
    "from bluesky_widgets.models.plot_specs import Axes, Figure"
   ]
  },
  {
   "cell_type": "code",
   "execution_count": null,
   "id": "3974a8cb",
   "metadata": {},
   "outputs": [],
   "source": [
    "axes_list = [Axes() for _ in range(9)]\n",
    "figure_model = Figure(axes_list, title=\"Summed Exposures\")\n",
    "models = [SummedImages(\"detector_image\", axes=axes) for axes in axes_list]\n",
    "figure = JupyterFigure(figure_model)\n",
    "figure"
   ]
  },
  {
   "cell_type": "code",
   "execution_count": null,
   "id": "f889619e",
   "metadata": {
    "pycharm": {
     "name": "#%%\n"
    }
   },
   "outputs": [],
   "source": [
    "RE = RunEngine()"
   ]
  },
  {
   "cell_type": "code",
   "execution_count": null,
   "id": "2424b518",
   "metadata": {},
   "outputs": [],
   "source": [
    "RE(select_sample(0))"
   ]
  },
  {
   "cell_type": "code",
   "execution_count": null,
   "id": "c8fcee8d",
   "metadata": {},
   "outputs": [],
   "source": [
    "RE(count([detector], 10, delay=1), stream_documents_into_runs(models[0].add_run))"
   ]
  },
  {
   "cell_type": "code",
   "execution_count": null,
   "id": "92e43015",
   "metadata": {},
   "outputs": [],
   "source": []
  }
 ],
 "metadata": {
  "kernelspec": {
   "display_name": "Python 3",
   "language": "python",
   "name": "python3"
  },
  "language_info": {
   "codemirror_mode": {
    "name": "ipython",
    "version": 3
   },
   "file_extension": ".py",
   "mimetype": "text/x-python",
   "name": "python",
   "nbconvert_exporter": "python",
   "pygments_lexer": "ipython3",
   "version": "3.7.8"
  }
 },
 "nbformat": 4,
 "nbformat_minor": 5
}
